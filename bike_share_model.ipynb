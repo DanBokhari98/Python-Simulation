{
  "cells": [
    {
      "metadata": {
        "collapsed": true,
        "trusted": false
      },
      "cell_type": "code",
      "source": "!pip install pint\n# Configure Jupyter so figures appear in the notebook\n%matplotlib inline\n# Configure Jupyter to display the assigned value after an assignment\n%config InteractiveShell.ast_node_interactivity='last_expr_or_assign'\n# import functions from the modsim library\nfrom modsim import *\n\n#Define step function to perform our probability \ndef step(state, p1, p2, p3, p4, p5, p6):\n    \n    #Takes the chance to go from Flushing to Astoria\n    if flip(p1):\n        bike_flushing_to_astoria(state)\n    \n    #Takes the chance to go from Flushing to Woodside\n    if flip(p2):\n        bike_flushing_to_woodside(state)\n\n    #Takes the chance to go from Astoria to Woodside\n    if flip(p3):\n        bike_astoria_to_woodside(state)\n    \n    #Takes the chance to go from Astoria to Flushing\n    if flip(p4):\n        bike_astoria_to_flushing(state)\n    \n    #Takes the chance to go from Woodside to Flushing\n    if flip(p5):\n        bike_woodside_to_flushing(state)\n        \n    #Takes the chance to go from Astoria to Flushing\n    if flip(p6):\n        bike_woodside_to_astoria(state)\n\n#Here we are transferring bikes from Flushing to Astoria\ndef bike_flushing_to_astoria(state):\n    if state.flushing == 0:\n        state.flushing_empty += 1\n        return\n    state.flushing -= 1\n    state.astoria += 1\n\n#Here we are transferring bikes from Flushing to Woodside    \ndef bike_flushing_to_woodisde(state):\n    if state.flushing == 0:\n        state.flushing_empty += 1\n        return\n    state.flushing -= 1\n    state.woodside += 1\n    \n#Here we are transferring bikes from Woodside to Flushing\ndef bike_woodside_to_flushing(state):\n    if state.woodside == 0:\n        state.woodside_empty += 1\n        return\n    state.woodside -= 1\n    state.flushing += 1    \n\n#Here we are transferring bikes from Woodside to Astoria\ndef bike_woodside_to_astoria(state):\n    if state.woodside == 0:\n        state.woodside_empty += 1\n        return\n    state.woodside -= 1\n    state.astoria += 1     \n\n#Here we are transferring bikes from Astoria to Flushing\ndef bike_astoria_to_flushing(state):\n    if state.astoria == 0:\n        state.astoria_empty += 1\n        return\n    state.astoria -= 1\n    state.flushing += 1\n    \n#Here we are transferring bikes from Astoria to Woodside\ndef bike_astoria_to_woodside(state):\n    if state.astoria == 0:\n        state.astoria_empty += 1\n        return\n    state.astoria -= 1\n    state.woodside += 1   \n    \n# This method allows us to perform the simulation over the duration of our objective.\ndef run_simulation(p1, p2, p3, num_steps):\n    state = State(flushing=10, woodside=4, astoria=7, flushing_empty=0, woodside_empty=0, astoria_empty=0)\n    for i in range(num_steps):\n        step(state, p1, p2, p3)\n    return state\n\nstate = run_simulation()\nprint(state.flushing_empty, state.woodside_empty, state.astoria_empty)\n",
      "execution_count": null,
      "outputs": []
    }
  ],
  "metadata": {
    "kernelspec": {
      "name": "python36",
      "display_name": "Python 3.6",
      "language": "python"
    },
    "language_info": {
      "mimetype": "text/x-python",
      "nbconvert_exporter": "python",
      "name": "python",
      "pygments_lexer": "ipython3",
      "version": "3.6.6",
      "file_extension": ".py",
      "codemirror_mode": {
        "version": 3,
        "name": "ipython"
      }
    }
  },
  "nbformat": 4,
  "nbformat_minor": 2
}